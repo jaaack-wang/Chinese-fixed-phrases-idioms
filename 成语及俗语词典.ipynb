{
 "cells": [
  {
   "cell_type": "code",
   "execution_count": null,
   "id": "0581ce18",
   "metadata": {},
   "outputs": [],
   "source": [
    "import requests\n",
    "from bs4 import BeautifulSoup as bs\n",
    "import re\n",
    "from collections import defaultdict\n",
    "import json\n",
    "from threading import Thread\n",
    "from tqdm import tqdm\n",
    "from time import time"
   ]
  },
  {
   "cell_type": "code",
   "execution_count": null,
   "id": "caa76706",
   "metadata": {},
   "outputs": [],
   "source": [
    "def getHTML(url, headers=None):\n",
    "    r = requests.get(url, headers=headers)\n",
    "    if r.status_code == 200:\n",
    "        html = r.content\n",
    "        try:\n",
    "            return bs(html, 'html').text\n",
    "        except:\n",
    "            try:\n",
    "                return bs(html, 'html.parser').text\n",
    "            except:\n",
    "                return bs(html, 'lxml').text\n",
    "\n",
    "\n",
    "def findMatch(pattern, text):\n",
    "    match = re.search(pattern, text)\n",
    "    if match:\n",
    "        res = match.group().strip()\n",
    "        if res:\n",
    "            return res\n",
    "        \n",
    "\n",
    "def 构建成语及俗语(url):\n",
    "    html = getHTML(url)\n",
    "    if html:\n",
    "        word = findMatch(r\".+(?=的成语解释及意思)\", html)\n",
    "        if word:\n",
    "            成语及俗语[word]['拼音'] = findMatch(r\"(?<=拼音：\\n).+\", html)\n",
    "            成语及俗语[word]['简拼'] = findMatch(r\"(?<=简拼：\\n).+\", html)\n",
    "            \n",
    "            近义词 = findMatch(r\"(?<=近义词：\\n).+\", html)\n",
    "            if 近义词:\n",
    "                成语及俗语[word]['近义词'] = 近义词.split(\"、\")\n",
    "            else:\n",
    "                成语及俗语[word]['近义词'] = []\n",
    "            \n",
    "            反义词 = findMatch(r\"(?<=反义词：\\n).+\", html)\n",
    "            if 反义词:\n",
    "                成语及俗语[word]['反义词'] = 反义词.split(\"、\")\n",
    "            else:\n",
    "                成语及俗语[word]['反义词'] = []\n",
    "            \n",
    "            成语及俗语[word]['用法'] = findMatch(r\"(?<=用法：\\n).+\", html)\n",
    "            成语及俗语[word]['解释'] = findMatch(r\"(?<=解释：\\n).+\", html)\n",
    "            成语及俗语[word]['出处'] = findMatch(r\"(?<=出处：\\n).+\", html)\n",
    "            成语及俗语[word]['例子'] = findMatch(r\"(?<=例子：\\n).+\", html)\n",
    "            成语及俗语[word]['谒后语'] = findMatch(r\"(?<=谒后语：\\n).+\", html)\n",
    "            成语及俗语[word]['谜语'] = findMatch(r\"(?<=谜语：\\n).+\", html)\n",
    "            成语及俗语[word]['成语故事'] = findMatch(r\"(?<=成语故事：\\n).+\", html)\n",
    "            成语及俗语[word]['链接'] = url\n",
    "\n",
    "\n",
    "def main(start_idx=0, end_idx=31251, step=10):\n",
    "    for i in tqdm(range(start_idx, end_idx, step)):\n",
    "        threads = []\n",
    "        for j in range(i, i + step if i + step <= end_idx else end_idx):\n",
    "            url = \"http://cy.5156edu.com/html4/{}.html\".format(j)\n",
    "            t = Thread(target=构建成语及俗语, args=(url,))\n",
    "            t.start()\n",
    "            threads.append(t)\n",
    "        for t in threads:\n",
    "            t.join()"
   ]
  },
  {
   "cell_type": "code",
   "execution_count": null,
   "id": "3e5d5461",
   "metadata": {
    "scrolled": false
   },
   "outputs": [],
   "source": [
    "成语及俗语 = defaultdict(dict)\n",
    "\n",
    "if __name__ == '__main__':\n",
    "    s = time()\n",
    "    main(step=30)\n",
    "    e = time()\n",
    "    print(\"Total time: \" + str(e - s))"
   ]
  },
  {
   "cell_type": "code",
   "execution_count": null,
   "id": "f2e13db5",
   "metadata": {},
   "outputs": [],
   "source": [
    "with open('成语及俗语词典_后17440.json', 'w') as f:\n",
    "    json.dump(成语及俗语, f)"
   ]
  }
 ],
 "metadata": {
  "kernelspec": {
   "display_name": "Python 3 (ipykernel)",
   "language": "python",
   "name": "python3"
  },
  "language_info": {
   "codemirror_mode": {
    "name": "ipython",
    "version": 3
   },
   "file_extension": ".py",
   "mimetype": "text/x-python",
   "name": "python",
   "nbconvert_exporter": "python",
   "pygments_lexer": "ipython3",
   "version": "3.9.6"
  }
 },
 "nbformat": 4,
 "nbformat_minor": 5
}
